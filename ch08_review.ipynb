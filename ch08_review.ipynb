{
 "cells": [
  {
   "cell_type": "markdown",
   "id": "90db3fef",
   "metadata": {},
   "source": [
    "# CH08. 차원 축소"
   ]
  },
  {
   "cell_type": "markdown",
   "id": "f1026ab0",
   "metadata": {},
   "source": [
    "### 설정"
   ]
  },
  {
   "cell_type": "code",
   "execution_count": null,
   "id": "936270a9",
   "metadata": {},
   "outputs": [],
   "source": [
    "# 파이썬 ≥3.5 필수 (파이썬 3.7 추천)\n",
    "import sys\n",
    "assert sys.version_info >= (3, 5) \n",
    "\n",
    "# 사이킷런 ≥0.20 필수\n",
    "import sklearn\n",
    "assert sklearn.__version__ >= \"0.20\"\n",
    "\n",
    "# 공통 모듈 임포트\n",
    "import numpy as np\n",
    "import os"
   ]
  },
  {
   "cell_type": "code",
   "execution_count": null,
   "id": "0952e8de",
   "metadata": {},
   "outputs": [],
   "source": [
    "np.random.seed(4)\n",
    "\n",
    "m = 60\n",
    "noise = 0.1\n",
    "\n",
    "X = np.empty((m, 3))\n",
    "\n",
    "angles = np.random.rand(m) * 3 * np.pi / 2 - 0.5\n",
    "X[:, 0] = np.cos(angles) + np.sin(angles)/2 + noise * np.random.randn(m) / 2   # x 좌표\n",
    "X[:, 1] = np.sin(angles) * 0.7 + noise * np.random.randn(m) / 2                # y 좌표\n",
    "\n",
    "w1, w2 = 0.1, 0.3\n",
    "X[:, 2] = X[:, 0] * w1 + X[:, 1] * w2 + noise * np.random.randn(m)             # z 좌표 (초평면 + 잡음)"
   ]
  },
  {
   "cell_type": "markdown",
   "id": "b5c19ad6",
   "metadata": {},
   "source": [
    "#### 8.3.4 사이킷런 사용하기"
   ]
  },
  {
   "cell_type": "code",
   "execution_count": null,
   "id": "52a13737",
   "metadata": {},
   "outputs": [],
   "source": [
    "X_centered = X - X.mean(axis=0)"
   ]
  },
  {
   "cell_type": "code",
   "execution_count": null,
   "id": "e7f8ddb1",
   "metadata": {},
   "outputs": [],
   "source": [
    "from sklearn.decomposition import PCA\n",
    "\n",
    "pca = PCA(n_components=2)\n",
    "X2D = pca.fit_transform(X)"
   ]
  },
  {
   "cell_type": "code",
   "execution_count": null,
   "id": "904f5f8a",
   "metadata": {
    "scrolled": true
   },
   "outputs": [],
   "source": [
    "X2D.mean(0)"
   ]
  },
  {
   "cell_type": "markdown",
   "id": "d3e96914",
   "metadata": {},
   "source": [
    "#### 8.3.6 적절한 차원 수 선택하기"
   ]
  },
  {
   "cell_type": "code",
   "execution_count": null,
   "id": "ae22b6eb",
   "metadata": {},
   "outputs": [],
   "source": [
    "from sklearn.datasets import fetch_openml\n",
    "\n",
    "mnist = fetch_openml('mnist_784', version=1, as_frame=False)"
   ]
  },
  {
   "cell_type": "code",
   "execution_count": null,
   "id": "9390579e",
   "metadata": {},
   "outputs": [],
   "source": [
    "mnist.target = mnist.target.astype(np.uint8)\n",
    "\n",
    "X = mnist[\"data\"]\n",
    "y = mnist[\"target\"]"
   ]
  },
  {
   "cell_type": "markdown",
   "id": "bc567ded",
   "metadata": {},
   "source": [
    "차원축소를 위한 적절한 차원을 확인하기 위해 설명 분산 비율이 95%가 되는\n",
    "지점까지 몇 개의 주성분이 필요한가를 계산한다.\n",
    "MNIST 데이터셋의 경우 설명 분산 비율이 95%가 되도록 하려면\n",
    "154개의 주성분이 필요함이 아래와 같이 확인된다."
   ]
  },
  {
   "cell_type": "code",
   "execution_count": null,
   "id": "95a14414",
   "metadata": {},
   "outputs": [],
   "source": [
    "from sklearn.model_selection import train_test_split\n",
    "\n",
    "X_train, X_test, y_train, y_test = train_test_split(X, y)"
   ]
  },
  {
   "cell_type": "code",
   "execution_count": null,
   "id": "d87e719d",
   "metadata": {},
   "outputs": [],
   "source": [
    "pca = PCA()\n",
    "pca.fit(X_train)\n",
    "\n",
    "cumsum = np.cumsum(pca.explained_variance_ratio_)\n",
    "d = np.argmax(cumsum >= 0.95) + 1\n",
    "d"
   ]
  },
  {
   "cell_type": "code",
   "execution_count": null,
   "id": "fd0dcafb",
   "metadata": {},
   "outputs": [],
   "source": [
    "pca = PCA(n_components=0.95)\n",
    "X_reduced=pca.fit_transform(X_train)"
   ]
  },
  {
   "cell_type": "markdown",
   "id": "8a071b38",
   "metadata": {},
   "source": [
    "#### 8.3.7 압축을 위한 PCA"
   ]
  },
  {
   "cell_type": "code",
   "execution_count": null,
   "id": "d616947d",
   "metadata": {},
   "outputs": [],
   "source": [
    "pca = PCA(n_components = 154)\n",
    "X_reduced = pca.fit_transform(X_train)\n",
    "\n",
    "X_recovered = pca.inverse_transform(X_reduced)\n",
    "\n",
    "np.mean(np.sum(np.square(X_recovered - X_train), axis=1))"
   ]
  },
  {
   "cell_type": "markdown",
   "id": "b9f67e68",
   "metadata": {},
   "source": [
    "#### 8.3.8 랜덤 PCA"
   ]
  },
  {
   "cell_type": "code",
   "execution_count": null,
   "id": "716fe601",
   "metadata": {},
   "outputs": [],
   "source": [
    "rnd_pca = PCA(n_components=154, svd_solver=\"randomized\", random_state=42)\n",
    "X_reduced = rnd_pca.fit_transform(X_train)"
   ]
  },
  {
   "cell_type": "markdown",
   "id": "756a0f94",
   "metadata": {},
   "source": [
    "#### 8.3.9 점진적 PCA"
   ]
  },
  {
   "cell_type": "code",
   "execution_count": null,
   "id": "1dc8f324",
   "metadata": {},
   "outputs": [],
   "source": [
    "from sklearn.decomposition import IncrementalPCA\n",
    "\n",
    "n_batches = 100                             # 배치 개수. 미니 배치 크기 = 52,500/100 = 525.\n",
    "inc_pca = IncrementalPCA(n_components=154)  # 154개의 주성분을 사용하는 모델 지정\n",
    "\n",
    "for X_batch in np.array_split(X_train, n_batches):\n",
    "    print(\".\", end=\"\")                      # 학습 진도를 보여주는 용도\n",
    "    inc_pca.partial_fit(X_batch)            # partial_fit() 메서드 사용\n",
    "\n",
    "X_reduced = inc_pca.transform(X_train)      # 154 차원으로 사영하기"
   ]
  },
  {
   "cell_type": "markdown",
   "id": "c694ad5b",
   "metadata": {},
   "source": [
    "#### 8.4 커널 PCA"
   ]
  },
  {
   "cell_type": "code",
   "execution_count": null,
   "id": "13243f9c",
   "metadata": {},
   "outputs": [],
   "source": [
    "from sklearn.decomposition import KernelPCA\n",
    "\n",
    "rbf_pca = KernelPCA(n_components = 2, kernel=\"rbf\", gamma=0.04)\n",
    "X_reduced = rbf_pca.fit_transform(X)"
   ]
  },
  {
   "cell_type": "markdown",
   "id": "55f4dac8",
   "metadata": {},
   "source": [
    "#### 8.4.1 커널 선택과 하이퍼 파라미터 튜닝"
   ]
  },
  {
   "cell_type": "code",
   "execution_count": null,
   "id": "669c2491",
   "metadata": {},
   "outputs": [],
   "source": [
    "from sklearn.model_selection import GridSearchCV\n",
    "from sklearn.linear_model import LogisticRegression\n",
    "from sklearn.pipeline import Pipeline\n",
    "\n",
    "clf = Pipeline([\n",
    "        (\"kpca\", KernelPCA(n_components=2)),\n",
    "        (\"log_reg\", LogisticRegression(solver=\"lbfgs\"))\n",
    "    ])\n",
    "\n",
    "param_grid = [{\n",
    "        \"kpca__gamma\": np.linspace(0.03, 0.05, 10),\n",
    "        \"kpca__kernel\": [\"rbf\", \"sigmoid\"]\n",
    "    }]\n",
    "\n",
    "grid_search = GridSearchCV(clf, param_grid, cv=3)\n",
    "grid_search.fit(X, y)"
   ]
  },
  {
   "cell_type": "code",
   "execution_count": null,
   "id": "96bdb947",
   "metadata": {},
   "outputs": [],
   "source": [
    "rbf_pca = KernelPCA(n_components = 2, kernel=\"rbf\", gamma=0.0433,\n",
    "                    fit_inverse_transform=True)\n",
    "X_reduced = rbf_pca.fit_transform(X)\n",
    "\n",
    "X_preimage = rbf_pca.inverse_transform(X_reduced)   # 재구성"
   ]
  },
  {
   "cell_type": "code",
   "execution_count": null,
   "id": "59aa9559",
   "metadata": {},
   "outputs": [],
   "source": [
    "from sklearn.metrics import mean_squared_error\n",
    "\n",
    "mean_squared_error(X, X_preimage)   # 재구성 오차가 거의 0임"
   ]
  },
  {
   "cell_type": "markdown",
   "id": "47bb9800",
   "metadata": {},
   "source": [
    "#### 8.5. LLE"
   ]
  },
  {
   "cell_type": "code",
   "execution_count": null,
   "id": "19f21c94",
   "metadata": {},
   "outputs": [],
   "source": [
    "X, t = make_swiss_roll(n_samples=1000, noise=0.2, random_state=41)"
   ]
  },
  {
   "cell_type": "code",
   "execution_count": null,
   "id": "7707d8fb",
   "metadata": {},
   "outputs": [],
   "source": [
    "from sklearn.manifold import LocallyLinearEmbedding\n",
    "\n",
    "lle = LocallyLinearEmbedding(n_components=2, n_neighbors=10, random_state=42)\n",
    "X_reduced = lle.fit_transform(X)"
   ]
  },
  {
   "cell_type": "code",
   "execution_count": null,
   "id": "13be504b",
   "metadata": {},
   "outputs": [],
   "source": [
    "def make_swiss_roll(n_samples=100, *, noise=0.0, random_state=None):\n",
    "    return X, t"
   ]
  },
  {
   "cell_type": "code",
   "execution_count": null,
   "id": "7cfc1cc1",
   "metadata": {},
   "outputs": [],
   "source": []
  }
 ],
 "metadata": {
  "kernelspec": {
   "display_name": "Python 3 (ipykernel)",
   "language": "python",
   "name": "python3"
  },
  "language_info": {
   "codemirror_mode": {
    "name": "ipython",
    "version": 3
   },
   "file_extension": ".py",
   "mimetype": "text/x-python",
   "name": "python",
   "nbconvert_exporter": "python",
   "pygments_lexer": "ipython3",
   "version": "3.9.13"
  }
 },
 "nbformat": 4,
 "nbformat_minor": 5
}
